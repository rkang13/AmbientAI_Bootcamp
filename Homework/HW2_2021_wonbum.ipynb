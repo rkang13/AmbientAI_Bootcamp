{
  "cells": [
    {
      "cell_type": "markdown",
      "metadata": {
        "id": "nnHmePS40fFn"
      },
      "source": [
        "# | HW2(~1/13) | Inception Network 구현"
      ]
    },
    {
      "cell_type": "markdown",
      "metadata": {
        "id": "OqgHD9H30fFo"
      },
      "source": [
        "[Inception network](https://www.cv-foundation.org/openaccess/content_cvpr_2015/papers/Szegedy_Going_Deeper_With_2015_CVPR_paper.pdf)는 Inception module 여러개로 구성된 모델이다. 다음 그림을 참고하여 Inception network를 구현하시오.\n",
        "\n",
        "- **채점 기준**\n",
        "  - Inception module을 잘 구현해야 한다.\n",
        "  - 아래의 표에 있는 대로 architecture를 구현해야 한다. (논문과 약간 다르게 auxiliary classifier 등이 생략되어 있다)\n",
        "  - 아래의 **표에 있는 대로 hyperparameter(filter size, stride, filter 수)를 설정**해야 하고, 각 layer 및 module의 **output size가 표와 같게 나와야 한다.**\n",
        "  - test accuracy가 **65% 이상** 나와야 한다.\n",
        "- **제출**\n",
        "  - \"HW2_학번_이름.ipynb\" 형태로 저장하여 Jupyter Notebook을 그대로 제출.\n",
        "    - 예: HW2_2022_12345_keondo.ipynb\n",
        "  - output 지우지 말아 주세요"
      ]
    },
    {
      "cell_type": "markdown",
      "metadata": {
        "id": "b7ixWfU30fFo"
      },
      "source": [
        "## 과제 설명"
      ]
    },
    {
      "cell_type": "markdown",
      "metadata": {
        "id": "6Ey7jCNH0fFo"
      },
      "source": [
        "### Inception Module\n",
        "\n",
        "- `strides`는 모두 1로 설정해야 output size가 맞게 나올 것이다.\n",
        "\n",
        "\n",
        "\n",
        "<img src=\"https://user-images.githubusercontent.com/37704174/108797724-369ef800-75cf-11eb-987a-926657daf61e.JPG\" width=\"400\" height=\"400\"/>  \n",
        "\n"
      ]
    },
    {
      "cell_type": "markdown",
      "metadata": {
        "id": "ckzNKTMr0fFo"
      },
      "source": [
        "### Inception Network Architecture\n",
        "- 아래의 표에 있는대로 구성을 하면 이러한 구조의 모델이 만들어진다.\n",
        "\n",
        "<img src=\"https://user-images.githubusercontent.com/37704174/108797713-2dae2680-75cf-11eb-8593-5a1bf50549da.png\" width=\"400\" height=\"400\"/>  "
      ]
    },
    {
      "cell_type": "markdown",
      "metadata": {
        "id": "8Zuf2ydQ0fFp"
      },
      "source": [
        "### Specification\n",
        "\n",
        "\n",
        "<img src=\"https://user-images.githubusercontent.com/37704174/109782740-8d9a7200-7c4c-11eb-9999-d859b67dc468.JPG\" width=\"600\" height=\"600\"/>  \n",
        "\n",
        "- 이 표에 있는 대로 위에서부터 layer 및 Inception module을 쌓아야 한다.\n",
        "- 모든 `Conv2D`와 `MaxPool2D`의 padding 옵션은 `same`으로 설정해야 output size가 올바르게 나올 것이다.\n",
        "- 표 3행을 보면 convolution의 depth가 2이다. 이것은 `Conv2D` layer가 2개 있다는 뜻이고, 각각의 filter의 수는 64, 192로 설정해야 한다.\n",
        "- Inception module의 hyperparameter 설명\n",
        "  - #1x1: 맨 왼쪽 1x1 convolution layer의 filter 수\n",
        "  - #3x3 reduce: 3x3 convolution layer 이전에 나오는 1x1 convolution layer의 filter 수\n",
        "  - #3x3: 3x3 convolution layer의 filter 수\n",
        "  - #5x5 reduce: 5x5 convolution layer 이전에 나오는 1x1 convolution layer의 filter 수\n",
        "  - #5x5: 5x5 convolution layer의 filter 수\n",
        "  - pool proj: max pooling 다음에 나오는 1x1 convolution layer의 filter 수"
      ]
    },
    {
      "cell_type": "markdown",
      "metadata": {
        "id": "4kzqb8B10fFp"
      },
      "source": [
        "## (Optional) Colab Setup"
      ]
    },
    {
      "cell_type": "code",
      "execution_count": 1,
      "metadata": {
        "id": "UQdOegcC0fFp",
        "colab": {
          "base_uri": "https://localhost:8080/"
        },
        "outputId": "cd9f5d8c-81be-4caf-a45b-8b4ca8c6f518"
      },
      "outputs": [
        {
          "output_type": "stream",
          "name": "stdout",
          "text": [
            "Mounted at /content/drive\n"
          ]
        }
      ],
      "source": [
        "# Colab에 Google Drive를 마운트하면 노트북의 모든 코드가 Google Drive의 모든 파일에 액세스할 수 있게 됨\n",
        "from google.colab import drive\n",
        "drive.mount('/content/drive')"
      ]
    },
    {
      "cell_type": "code",
      "execution_count": 2,
      "metadata": {
        "id": "jtzG3ldr0fFp",
        "colab": {
          "base_uri": "https://localhost:8080/"
        },
        "outputId": "ac1091f4-ab68-41d4-a259-95cf9ece4f9d"
      },
      "outputs": [
        {
          "output_type": "stream",
          "name": "stdout",
          "text": [
            "/content/drive/MyDrive/Colab Notebooks/Ambient AI\n"
          ]
        }
      ],
      "source": [
        "\"\"\"\n",
        "Change directory to where this file is located\n",
        "\"\"\"\n",
        "%cd '/content/drive/MyDrive/Colab Notebooks/Ambient AI'"
      ]
    },
    {
      "cell_type": "markdown",
      "metadata": {
        "id": "DtfJdTkn0fFp"
      },
      "source": [
        "## Import Modules"
      ]
    },
    {
      "cell_type": "code",
      "execution_count": 3,
      "metadata": {
        "id": "pcmXyO0M0fFp"
      },
      "outputs": [],
      "source": [
        "import tensorflow as tf\n",
        "### 자유롭게 import\n",
        "import math\n",
        "import os\n",
        "cifar10 = tf.keras.datasets.cifar10"
      ]
    },
    {
      "cell_type": "markdown",
      "metadata": {
        "id": "sreTcgqm0fFp"
      },
      "source": [
        "## GPU Setting"
      ]
    },
    {
      "cell_type": "code",
      "execution_count": 4,
      "metadata": {
        "id": "CglkPMBZ0fFq",
        "colab": {
          "base_uri": "https://localhost:8080/"
        },
        "outputId": "ae555370-41ed-4453-a476-b2bd6f940dfe"
      },
      "outputs": [
        {
          "output_type": "stream",
          "name": "stdout",
          "text": [
            "Num_GPUs:1, List:[PhysicalDevice(name='/physical_device:GPU:0', device_type='GPU')]\n"
          ]
        }
      ],
      "source": [
        "\"\"\"\n",
        "Make sure your runtime type is GPU!\n",
        "\"\"\"\n",
        "physical_devices = tf.config.list_physical_devices('GPU')\n",
        "print('Num_GPUs:{}, List:{}'.format(len(physical_devices), physical_devices))"
      ]
    },
    {
      "cell_type": "markdown",
      "metadata": {
        "id": "6RXfpcFz0fFq"
      },
      "source": [
        "## 1. Implement Inception Network\n"
      ]
    },
    {
      "cell_type": "markdown",
      "metadata": {
        "id": "eq5jlPAc0fFq"
      },
      "source": [
        "### Inception Module"
      ]
    },
    {
      "cell_type": "code",
      "execution_count": 5,
      "metadata": {
        "id": "vHJfrHqk0fFq"
      },
      "outputs": [],
      "source": [
        "def InceptionModule(inputs, f_1x1, f_3x3_r, f_3x3, f_5x5_r, f_5x5, f_pool):\n",
        "    \"\"\"\n",
        "    inputs: input of Inception module\n",
        "    f_ : number of filters in the table above\n",
        "\n",
        "    \"\"\"\n",
        "    ### Q1. Make a Inception Module (as Figure 2) ###\n",
        "    x_1 = tf.keras.layers.Conv2D(filters=f_1x1, kernel_size=(1,1), strides=1, padding='same', activation='relu')(inputs)\n",
        "    x_2_1 = tf.keras.layers.Conv2D(filters=f_3x3_r, kernel_size=(1,1), strides=(1,1), padding='same', activation='relu')(inputs)\n",
        "    x_3_1 = tf.keras.layers.Conv2D(filters=f_5x5_r, kernel_size=(1,1), strides=(1,1), padding='same', activation='relu')(inputs)\n",
        "    x_4_1 = tf.keras.layers.MaxPool2D(pool_size=(3,3), strides=(1,1), padding='same')(inputs)\n",
        "\n",
        "    x_2_2 = tf.keras.layers.Conv2D(filters=f_3x3, kernel_size=(3,3), strides=(1,1), padding='same', activation='relu')(x_2_1)\n",
        "    x_3_2 = tf.keras.layers.Conv2D(filters=f_5x5, kernel_size=(5,5), strides=(1,1), padding='same', activation='relu')(x_3_1)\n",
        "    x_4_2 = tf.keras.layers.Conv2D(filters=f_pool, kernel_size=(1,1), strides=(1,1), padding='same', activation='relu')(x_4_1)\n",
        "\n",
        "    outputs = tf.keras.layers.Concatenate(axis=-1)([x_1, x_2_2, x_3_2, x_4_2])\n",
        "    # use tf.keras.layers.concatenate\n",
        "\n",
        "    #######################################\n",
        "    return outputs"
      ]
    },
    {
      "cell_type": "markdown",
      "metadata": {
        "id": "08H5rw-B0fFq"
      },
      "source": [
        "### Inception Network"
      ]
    },
    {
      "cell_type": "code",
      "execution_count": 6,
      "metadata": {
        "id": "BRbPhu2a0fFq"
      },
      "outputs": [],
      "source": [
        "def InceptionNet():\n",
        "    inputs = tf.keras.layers.Input(shape=(32, 32, 3))\n",
        "\n",
        "    ### Q2. Make a Inception Network according to the above specification ###\n",
        "    x = tf.keras.layers.Conv2D(filters=64, kernel_size=(7,7), strides=(1,1), padding='same', activation='relu')(inputs)\n",
        "    x = tf.keras.layers.BatchNormalization()(x)\n",
        "    x = tf.keras.layers.MaxPool2D(pool_size=(3,3), strides=(2,2), padding='same')(x)\n",
        "    x = tf.keras.layers.Conv2D(filters=64, kernel_size=(3,3), strides=(1,1), padding='same', activation='relu')(x)\n",
        "    x = tf.keras.layers.Conv2D(filters=192, kernel_size=(3,3), strides=(1,1), padding='same', activation='relu')(x)\n",
        "    x = tf.keras.layers.MaxPool2D(pool_size=(3,3), strides=2, padding='same')(x)\n",
        "    x = InceptionModule(x, 64, 96, 128, 16, 32, 32)\n",
        "    x = InceptionModule(x, 128, 128, 192, 32, 96, 64)\n",
        "    x = tf.keras.layers.MaxPool2D(pool_size=(3,3), strides=(2,2), padding='same')(x)\n",
        "    x = InceptionModule(x, 192, 96, 208, 16, 48, 64)\n",
        "    x = InceptionModule(x, 160, 112, 224, 24, 64, 64)\n",
        "    x = InceptionModule(x, 128, 128, 256, 24, 64, 64)\n",
        "    x = InceptionModule(x, 112, 144, 288, 32, 64, 64)\n",
        "    x = InceptionModule(x, 256, 160, 320, 32, 128, 128)\n",
        "    x = tf.keras.layers.MaxPool2D(pool_size=(3,3), strides=(2,2), padding='same')(x)\n",
        "    x = InceptionModule(x, 256, 160, 320, 32, 128, 128)\n",
        "    x = InceptionModule(x, 384, 192, 384, 48, 128, 128)\n",
        "    x = tf.keras.layers.GlobalAveragePooling2D()(x)\n",
        "    x = tf.keras.layers.Flatten()(x)\n",
        "    x = tf.keras.layers.Dense(10, activation='linear')(x)\n",
        "\n",
        "    outputs = tf.keras.layers.Dense(10, activation='softmax')(x)\n",
        "\n",
        "    #########################################################################\n",
        "\n",
        "    return tf.keras.Model(inputs=inputs, outputs=outputs)"
      ]
    },
    {
      "cell_type": "code",
      "execution_count": 7,
      "metadata": {
        "id": "Xi0bcc3h0fFq"
      },
      "outputs": [],
      "source": [
        "my_inception = InceptionNet()"
      ]
    },
    {
      "cell_type": "markdown",
      "metadata": {
        "id": "BRxK1iht0fFq"
      },
      "source": [
        "### Model Summary\n",
        "\n",
        "아래 셀을 실행 했을 때, 표의 각각에 해당하는 output size가 맞게 나와야 한다."
      ]
    },
    {
      "cell_type": "code",
      "execution_count": 8,
      "metadata": {
        "id": "jsSGxfNq0fFq",
        "colab": {
          "base_uri": "https://localhost:8080/"
        },
        "outputId": "c13e0808-a648-44b7-899c-1ab3fd2db83e"
      },
      "outputs": [
        {
          "output_type": "stream",
          "name": "stdout",
          "text": [
            "Model: \"model\"\n",
            "__________________________________________________________________________________________________\n",
            " Layer (type)                   Output Shape         Param #     Connected to                     \n",
            "==================================================================================================\n",
            " input_1 (InputLayer)           [(None, 32, 32, 3)]  0           []                               \n",
            "                                                                                                  \n",
            " conv2d (Conv2D)                (None, 32, 32, 64)   9472        ['input_1[0][0]']                \n",
            "                                                                                                  \n",
            " batch_normalization (BatchNorm  (None, 32, 32, 64)  256         ['conv2d[0][0]']                 \n",
            " alization)                                                                                       \n",
            "                                                                                                  \n",
            " max_pooling2d (MaxPooling2D)   (None, 16, 16, 64)   0           ['batch_normalization[0][0]']    \n",
            "                                                                                                  \n",
            " conv2d_1 (Conv2D)              (None, 16, 16, 64)   36928       ['max_pooling2d[0][0]']          \n",
            "                                                                                                  \n",
            " conv2d_2 (Conv2D)              (None, 16, 16, 192)  110784      ['conv2d_1[0][0]']               \n",
            "                                                                                                  \n",
            " max_pooling2d_1 (MaxPooling2D)  (None, 8, 8, 192)   0           ['conv2d_2[0][0]']               \n",
            "                                                                                                  \n",
            " conv2d_4 (Conv2D)              (None, 8, 8, 96)     18528       ['max_pooling2d_1[0][0]']        \n",
            "                                                                                                  \n",
            " conv2d_5 (Conv2D)              (None, 8, 8, 16)     3088        ['max_pooling2d_1[0][0]']        \n",
            "                                                                                                  \n",
            " max_pooling2d_2 (MaxPooling2D)  (None, 8, 8, 192)   0           ['max_pooling2d_1[0][0]']        \n",
            "                                                                                                  \n",
            " conv2d_3 (Conv2D)              (None, 8, 8, 64)     12352       ['max_pooling2d_1[0][0]']        \n",
            "                                                                                                  \n",
            " conv2d_6 (Conv2D)              (None, 8, 8, 128)    110720      ['conv2d_4[0][0]']               \n",
            "                                                                                                  \n",
            " conv2d_7 (Conv2D)              (None, 8, 8, 32)     12832       ['conv2d_5[0][0]']               \n",
            "                                                                                                  \n",
            " conv2d_8 (Conv2D)              (None, 8, 8, 32)     6176        ['max_pooling2d_2[0][0]']        \n",
            "                                                                                                  \n",
            " concatenate (Concatenate)      (None, 8, 8, 256)    0           ['conv2d_3[0][0]',               \n",
            "                                                                  'conv2d_6[0][0]',               \n",
            "                                                                  'conv2d_7[0][0]',               \n",
            "                                                                  'conv2d_8[0][0]']               \n",
            "                                                                                                  \n",
            " conv2d_10 (Conv2D)             (None, 8, 8, 128)    32896       ['concatenate[0][0]']            \n",
            "                                                                                                  \n",
            " conv2d_11 (Conv2D)             (None, 8, 8, 32)     8224        ['concatenate[0][0]']            \n",
            "                                                                                                  \n",
            " max_pooling2d_3 (MaxPooling2D)  (None, 8, 8, 256)   0           ['concatenate[0][0]']            \n",
            "                                                                                                  \n",
            " conv2d_9 (Conv2D)              (None, 8, 8, 128)    32896       ['concatenate[0][0]']            \n",
            "                                                                                                  \n",
            " conv2d_12 (Conv2D)             (None, 8, 8, 192)    221376      ['conv2d_10[0][0]']              \n",
            "                                                                                                  \n",
            " conv2d_13 (Conv2D)             (None, 8, 8, 96)     76896       ['conv2d_11[0][0]']              \n",
            "                                                                                                  \n",
            " conv2d_14 (Conv2D)             (None, 8, 8, 64)     16448       ['max_pooling2d_3[0][0]']        \n",
            "                                                                                                  \n",
            " concatenate_1 (Concatenate)    (None, 8, 8, 480)    0           ['conv2d_9[0][0]',               \n",
            "                                                                  'conv2d_12[0][0]',              \n",
            "                                                                  'conv2d_13[0][0]',              \n",
            "                                                                  'conv2d_14[0][0]']              \n",
            "                                                                                                  \n",
            " max_pooling2d_4 (MaxPooling2D)  (None, 4, 4, 480)   0           ['concatenate_1[0][0]']          \n",
            "                                                                                                  \n",
            " conv2d_16 (Conv2D)             (None, 4, 4, 96)     46176       ['max_pooling2d_4[0][0]']        \n",
            "                                                                                                  \n",
            " conv2d_17 (Conv2D)             (None, 4, 4, 16)     7696        ['max_pooling2d_4[0][0]']        \n",
            "                                                                                                  \n",
            " max_pooling2d_5 (MaxPooling2D)  (None, 4, 4, 480)   0           ['max_pooling2d_4[0][0]']        \n",
            "                                                                                                  \n",
            " conv2d_15 (Conv2D)             (None, 4, 4, 192)    92352       ['max_pooling2d_4[0][0]']        \n",
            "                                                                                                  \n",
            " conv2d_18 (Conv2D)             (None, 4, 4, 208)    179920      ['conv2d_16[0][0]']              \n",
            "                                                                                                  \n",
            " conv2d_19 (Conv2D)             (None, 4, 4, 48)     19248       ['conv2d_17[0][0]']              \n",
            "                                                                                                  \n",
            " conv2d_20 (Conv2D)             (None, 4, 4, 64)     30784       ['max_pooling2d_5[0][0]']        \n",
            "                                                                                                  \n",
            " concatenate_2 (Concatenate)    (None, 4, 4, 512)    0           ['conv2d_15[0][0]',              \n",
            "                                                                  'conv2d_18[0][0]',              \n",
            "                                                                  'conv2d_19[0][0]',              \n",
            "                                                                  'conv2d_20[0][0]']              \n",
            "                                                                                                  \n",
            " conv2d_22 (Conv2D)             (None, 4, 4, 112)    57456       ['concatenate_2[0][0]']          \n",
            "                                                                                                  \n",
            " conv2d_23 (Conv2D)             (None, 4, 4, 24)     12312       ['concatenate_2[0][0]']          \n",
            "                                                                                                  \n",
            " max_pooling2d_6 (MaxPooling2D)  (None, 4, 4, 512)   0           ['concatenate_2[0][0]']          \n",
            "                                                                                                  \n",
            " conv2d_21 (Conv2D)             (None, 4, 4, 160)    82080       ['concatenate_2[0][0]']          \n",
            "                                                                                                  \n",
            " conv2d_24 (Conv2D)             (None, 4, 4, 224)    226016      ['conv2d_22[0][0]']              \n",
            "                                                                                                  \n",
            " conv2d_25 (Conv2D)             (None, 4, 4, 64)     38464       ['conv2d_23[0][0]']              \n",
            "                                                                                                  \n",
            " conv2d_26 (Conv2D)             (None, 4, 4, 64)     32832       ['max_pooling2d_6[0][0]']        \n",
            "                                                                                                  \n",
            " concatenate_3 (Concatenate)    (None, 4, 4, 512)    0           ['conv2d_21[0][0]',              \n",
            "                                                                  'conv2d_24[0][0]',              \n",
            "                                                                  'conv2d_25[0][0]',              \n",
            "                                                                  'conv2d_26[0][0]']              \n",
            "                                                                                                  \n",
            " conv2d_28 (Conv2D)             (None, 4, 4, 128)    65664       ['concatenate_3[0][0]']          \n",
            "                                                                                                  \n",
            " conv2d_29 (Conv2D)             (None, 4, 4, 24)     12312       ['concatenate_3[0][0]']          \n",
            "                                                                                                  \n",
            " max_pooling2d_7 (MaxPooling2D)  (None, 4, 4, 512)   0           ['concatenate_3[0][0]']          \n",
            "                                                                                                  \n",
            " conv2d_27 (Conv2D)             (None, 4, 4, 128)    65664       ['concatenate_3[0][0]']          \n",
            "                                                                                                  \n",
            " conv2d_30 (Conv2D)             (None, 4, 4, 256)    295168      ['conv2d_28[0][0]']              \n",
            "                                                                                                  \n",
            " conv2d_31 (Conv2D)             (None, 4, 4, 64)     38464       ['conv2d_29[0][0]']              \n",
            "                                                                                                  \n",
            " conv2d_32 (Conv2D)             (None, 4, 4, 64)     32832       ['max_pooling2d_7[0][0]']        \n",
            "                                                                                                  \n",
            " concatenate_4 (Concatenate)    (None, 4, 4, 512)    0           ['conv2d_27[0][0]',              \n",
            "                                                                  'conv2d_30[0][0]',              \n",
            "                                                                  'conv2d_31[0][0]',              \n",
            "                                                                  'conv2d_32[0][0]']              \n",
            "                                                                                                  \n",
            " conv2d_34 (Conv2D)             (None, 4, 4, 144)    73872       ['concatenate_4[0][0]']          \n",
            "                                                                                                  \n",
            " conv2d_35 (Conv2D)             (None, 4, 4, 32)     16416       ['concatenate_4[0][0]']          \n",
            "                                                                                                  \n",
            " max_pooling2d_8 (MaxPooling2D)  (None, 4, 4, 512)   0           ['concatenate_4[0][0]']          \n",
            "                                                                                                  \n",
            " conv2d_33 (Conv2D)             (None, 4, 4, 112)    57456       ['concatenate_4[0][0]']          \n",
            "                                                                                                  \n",
            " conv2d_36 (Conv2D)             (None, 4, 4, 288)    373536      ['conv2d_34[0][0]']              \n",
            "                                                                                                  \n",
            " conv2d_37 (Conv2D)             (None, 4, 4, 64)     51264       ['conv2d_35[0][0]']              \n",
            "                                                                                                  \n",
            " conv2d_38 (Conv2D)             (None, 4, 4, 64)     32832       ['max_pooling2d_8[0][0]']        \n",
            "                                                                                                  \n",
            " concatenate_5 (Concatenate)    (None, 4, 4, 528)    0           ['conv2d_33[0][0]',              \n",
            "                                                                  'conv2d_36[0][0]',              \n",
            "                                                                  'conv2d_37[0][0]',              \n",
            "                                                                  'conv2d_38[0][0]']              \n",
            "                                                                                                  \n",
            " conv2d_40 (Conv2D)             (None, 4, 4, 160)    84640       ['concatenate_5[0][0]']          \n",
            "                                                                                                  \n",
            " conv2d_41 (Conv2D)             (None, 4, 4, 32)     16928       ['concatenate_5[0][0]']          \n",
            "                                                                                                  \n",
            " max_pooling2d_9 (MaxPooling2D)  (None, 4, 4, 528)   0           ['concatenate_5[0][0]']          \n",
            "                                                                                                  \n",
            " conv2d_39 (Conv2D)             (None, 4, 4, 256)    135424      ['concatenate_5[0][0]']          \n",
            "                                                                                                  \n",
            " conv2d_42 (Conv2D)             (None, 4, 4, 320)    461120      ['conv2d_40[0][0]']              \n",
            "                                                                                                  \n",
            " conv2d_43 (Conv2D)             (None, 4, 4, 128)    102528      ['conv2d_41[0][0]']              \n",
            "                                                                                                  \n",
            " conv2d_44 (Conv2D)             (None, 4, 4, 128)    67712       ['max_pooling2d_9[0][0]']        \n",
            "                                                                                                  \n",
            " concatenate_6 (Concatenate)    (None, 4, 4, 832)    0           ['conv2d_39[0][0]',              \n",
            "                                                                  'conv2d_42[0][0]',              \n",
            "                                                                  'conv2d_43[0][0]',              \n",
            "                                                                  'conv2d_44[0][0]']              \n",
            "                                                                                                  \n",
            " max_pooling2d_10 (MaxPooling2D  (None, 2, 2, 832)   0           ['concatenate_6[0][0]']          \n",
            " )                                                                                                \n",
            "                                                                                                  \n",
            " conv2d_46 (Conv2D)             (None, 2, 2, 160)    133280      ['max_pooling2d_10[0][0]']       \n",
            "                                                                                                  \n",
            " conv2d_47 (Conv2D)             (None, 2, 2, 32)     26656       ['max_pooling2d_10[0][0]']       \n",
            "                                                                                                  \n",
            " max_pooling2d_11 (MaxPooling2D  (None, 2, 2, 832)   0           ['max_pooling2d_10[0][0]']       \n",
            " )                                                                                                \n",
            "                                                                                                  \n",
            " conv2d_45 (Conv2D)             (None, 2, 2, 256)    213248      ['max_pooling2d_10[0][0]']       \n",
            "                                                                                                  \n",
            " conv2d_48 (Conv2D)             (None, 2, 2, 320)    461120      ['conv2d_46[0][0]']              \n",
            "                                                                                                  \n",
            " conv2d_49 (Conv2D)             (None, 2, 2, 128)    102528      ['conv2d_47[0][0]']              \n",
            "                                                                                                  \n",
            " conv2d_50 (Conv2D)             (None, 2, 2, 128)    106624      ['max_pooling2d_11[0][0]']       \n",
            "                                                                                                  \n",
            " concatenate_7 (Concatenate)    (None, 2, 2, 832)    0           ['conv2d_45[0][0]',              \n",
            "                                                                  'conv2d_48[0][0]',              \n",
            "                                                                  'conv2d_49[0][0]',              \n",
            "                                                                  'conv2d_50[0][0]']              \n",
            "                                                                                                  \n",
            " conv2d_52 (Conv2D)             (None, 2, 2, 192)    159936      ['concatenate_7[0][0]']          \n",
            "                                                                                                  \n",
            " conv2d_53 (Conv2D)             (None, 2, 2, 48)     39984       ['concatenate_7[0][0]']          \n",
            "                                                                                                  \n",
            " max_pooling2d_12 (MaxPooling2D  (None, 2, 2, 832)   0           ['concatenate_7[0][0]']          \n",
            " )                                                                                                \n",
            "                                                                                                  \n",
            " conv2d_51 (Conv2D)             (None, 2, 2, 384)    319872      ['concatenate_7[0][0]']          \n",
            "                                                                                                  \n",
            " conv2d_54 (Conv2D)             (None, 2, 2, 384)    663936      ['conv2d_52[0][0]']              \n",
            "                                                                                                  \n",
            " conv2d_55 (Conv2D)             (None, 2, 2, 128)    153728      ['conv2d_53[0][0]']              \n",
            "                                                                                                  \n",
            " conv2d_56 (Conv2D)             (None, 2, 2, 128)    106624      ['max_pooling2d_12[0][0]']       \n",
            "                                                                                                  \n",
            " concatenate_8 (Concatenate)    (None, 2, 2, 1024)   0           ['conv2d_51[0][0]',              \n",
            "                                                                  'conv2d_54[0][0]',              \n",
            "                                                                  'conv2d_55[0][0]',              \n",
            "                                                                  'conv2d_56[0][0]']              \n",
            "                                                                                                  \n",
            " global_average_pooling2d (Glob  (None, 1024)        0           ['concatenate_8[0][0]']          \n",
            " alAveragePooling2D)                                                                              \n",
            "                                                                                                  \n",
            " flatten (Flatten)              (None, 1024)         0           ['global_average_pooling2d[0][0]'\n",
            "                                                                 ]                                \n",
            "                                                                                                  \n",
            " dense (Dense)                  (None, 10)           10250       ['flatten[0][0]']                \n",
            "                                                                                                  \n",
            " dense_1 (Dense)                (None, 10)           110         ['dense[0][0]']                  \n",
            "                                                                                                  \n",
            "==================================================================================================\n",
            "Total params: 6,016,936\n",
            "Trainable params: 6,016,808\n",
            "Non-trainable params: 128\n",
            "__________________________________________________________________________________________________\n"
          ]
        }
      ],
      "source": [
        "my_inception.summary()"
      ]
    },
    {
      "cell_type": "markdown",
      "metadata": {
        "id": "_jTlhJr50fFq"
      },
      "source": [
        "## 2. Dataset"
      ]
    },
    {
      "cell_type": "markdown",
      "metadata": {
        "id": "9BzMxdWx0fFq"
      },
      "source": [
        "### Training Data\n",
        "\n",
        "아래의 데이터를 이용한다."
      ]
    },
    {
      "cell_type": "code",
      "execution_count": 9,
      "metadata": {
        "id": "HhKIX6wM0fFq",
        "colab": {
          "base_uri": "https://localhost:8080/"
        },
        "outputId": "f7ff2917-1dc1-4dc8-ce3e-d2d6e5fac8b1"
      },
      "outputs": [
        {
          "output_type": "stream",
          "name": "stdout",
          "text": [
            "Downloading data from https://www.cs.toronto.edu/~kriz/cifar-10-python.tar.gz\n",
            "170498071/170498071 [==============================] - 2s 0us/step\n"
          ]
        }
      ],
      "source": [
        "### DO NOT MODIFY ###\n",
        "\n",
        "#Load data\n",
        "(x_train, y_train), (x_test, y_test) = cifar10.load_data()\n",
        "\n",
        "#Split train set into train/valid set\n",
        "from sklearn import model_selection\n",
        "x_train, x_valid, y_train, y_valid = model_selection.train_test_split(x_train, y_train,test_size=0.1)"
      ]
    },
    {
      "cell_type": "markdown",
      "metadata": {
        "id": "RSWRXTR-0fFr"
      },
      "source": [
        "### Data Preprocessing\n",
        "\n",
        "원하는 대로 데이터를 전처리 해주면 된다."
      ]
    },
    {
      "cell_type": "code",
      "execution_count": 10,
      "metadata": {
        "id": "tsdM94z30fFr"
      },
      "outputs": [],
      "source": [
        "## Q3. Data preprocessing (ex. normalize...) ##\n",
        "x_train = x_train / 255.0\n",
        "x_valid = x_valid / 255.0\n",
        "x_test = x_test / 255.0\n",
        "###############################################"
      ]
    },
    {
      "cell_type": "markdown",
      "metadata": {
        "id": "BG4ciUAn0fFr"
      },
      "source": [
        "## 3. Training"
      ]
    },
    {
      "cell_type": "markdown",
      "metadata": {
        "id": "1TF1J-S10fFr"
      },
      "source": [
        "### Model Compile\n",
        "\n",
        "Optimizer, Loss function을 알맞게 설정한다. <br>\n",
        "Callbacks도 자유롭게 사용한다."
      ]
    },
    {
      "cell_type": "code",
      "execution_count": 11,
      "metadata": {
        "id": "rEhtrH8M0fFr"
      },
      "outputs": [],
      "source": [
        "## Q4. Model compile ##\n",
        "loss_fn = tf.keras.losses.SparseCategoricalCrossentropy()\n",
        "optim_fn = tf.keras.optimizers.Adam(learning_rate=0.001)\n",
        "\n",
        "my_inception.compile(optimizer=optim_fn,\n",
        "                     loss=loss_fn,\n",
        "                     metrics=['accuracy'])\n",
        "\n",
        "checkpoint_dir = './Training_Checkpoints'\n",
        "checkpoint_prefix = os.path.join(checkpoint_dir, \"ckpt_{epoch}\")\n",
        "\n",
        "def exp_decay(epoch):\n",
        "    ####### 실습 #######\n",
        "    if epoch < 3:\n",
        "        return 0.001\n",
        "    else:\n",
        "        return 0.001 * math.exp(0.1 * (3-epoch))\n",
        "\n",
        "callbacks = [\n",
        "    tf.keras.callbacks.ModelCheckpoint(filepath=checkpoint_prefix, save_weights_only = True),\n",
        "    tf.keras.callbacks.EarlyStopping(monitor='loss', patience=3),\n",
        "    tf.keras.callbacks.LearningRateScheduler(exp_decay)\n",
        "]\n",
        "#######################"
      ]
    },
    {
      "cell_type": "markdown",
      "metadata": {
        "id": "WAKfP45l0fFr"
      },
      "source": [
        "### Model Training\n",
        "\n",
        "hyperparameter를 적절히 설정한다. (epochs 등..)"
      ]
    },
    {
      "cell_type": "code",
      "execution_count": 12,
      "metadata": {
        "id": "s5inO5l-0fFr",
        "colab": {
          "base_uri": "https://localhost:8080/"
        },
        "outputId": "73d0c910-8f0b-4e52-c5bd-44a509437cd3"
      },
      "outputs": [
        {
          "output_type": "stream",
          "name": "stdout",
          "text": [
            "Epoch 1/20\n",
            "1407/1407 [==============================] - 79s 31ms/step - loss: 1.9783 - accuracy: 0.2241 - val_loss: 1.8504 - val_accuracy: 0.2796 - lr: 0.0010\n",
            "Epoch 2/20\n",
            "1407/1407 [==============================] - 40s 28ms/step - loss: 1.5879 - accuracy: 0.4039 - val_loss: 1.4695 - val_accuracy: 0.4550 - lr: 0.0010\n",
            "Epoch 3/20\n",
            "1407/1407 [==============================] - 40s 28ms/step - loss: 1.3413 - accuracy: 0.5129 - val_loss: 1.5043 - val_accuracy: 0.4534 - lr: 0.0010\n",
            "Epoch 4/20\n",
            "1407/1407 [==============================] - 40s 28ms/step - loss: 1.1702 - accuracy: 0.5780 - val_loss: 1.0965 - val_accuracy: 0.6088 - lr: 0.0010\n",
            "Epoch 5/20\n",
            "1407/1407 [==============================] - 40s 28ms/step - loss: 1.0332 - accuracy: 0.6330 - val_loss: 1.1819 - val_accuracy: 0.5762 - lr: 9.0484e-04\n",
            "Epoch 6/20\n",
            "1407/1407 [==============================] - 40s 29ms/step - loss: 0.9245 - accuracy: 0.6743 - val_loss: 1.0132 - val_accuracy: 0.6456 - lr: 8.1873e-04\n",
            "Epoch 7/20\n",
            "1407/1407 [==============================] - 40s 28ms/step - loss: 0.8318 - accuracy: 0.7097 - val_loss: 1.0873 - val_accuracy: 0.6176 - lr: 7.4082e-04\n",
            "Epoch 8/20\n",
            "1407/1407 [==============================] - 40s 28ms/step - loss: 0.7469 - accuracy: 0.7386 - val_loss: 0.9527 - val_accuracy: 0.6722 - lr: 6.7032e-04\n",
            "Epoch 9/20\n",
            "1407/1407 [==============================] - 40s 28ms/step - loss: 0.6719 - accuracy: 0.7645 - val_loss: 0.9554 - val_accuracy: 0.6894 - lr: 6.0653e-04\n",
            "Epoch 10/20\n",
            "1407/1407 [==============================] - 40s 28ms/step - loss: 0.5916 - accuracy: 0.7933 - val_loss: 0.9260 - val_accuracy: 0.6978 - lr: 5.4881e-04\n",
            "Epoch 11/20\n",
            "1407/1407 [==============================] - 40s 28ms/step - loss: 0.5140 - accuracy: 0.8202 - val_loss: 1.0150 - val_accuracy: 0.6928 - lr: 4.9659e-04\n",
            "Epoch 12/20\n",
            "1407/1407 [==============================] - 40s 28ms/step - loss: 0.4416 - accuracy: 0.8467 - val_loss: 0.9623 - val_accuracy: 0.7020 - lr: 4.4933e-04\n",
            "Epoch 13/20\n",
            "1407/1407 [==============================] - 40s 28ms/step - loss: 0.3733 - accuracy: 0.8713 - val_loss: 0.9579 - val_accuracy: 0.7264 - lr: 4.0657e-04\n",
            "Epoch 14/20\n",
            "1407/1407 [==============================] - 39s 28ms/step - loss: 0.3100 - accuracy: 0.8919 - val_loss: 1.0290 - val_accuracy: 0.7208 - lr: 3.6788e-04\n",
            "Epoch 15/20\n",
            "1407/1407 [==============================] - 40s 28ms/step - loss: 0.2558 - accuracy: 0.9130 - val_loss: 1.0895 - val_accuracy: 0.7154 - lr: 3.3287e-04\n",
            "Epoch 16/20\n",
            "1407/1407 [==============================] - 40s 28ms/step - loss: 0.2061 - accuracy: 0.9291 - val_loss: 1.1595 - val_accuracy: 0.7174 - lr: 3.0119e-04\n",
            "Epoch 17/20\n",
            "1407/1407 [==============================] - 42s 30ms/step - loss: 0.1677 - accuracy: 0.9412 - val_loss: 1.3026 - val_accuracy: 0.7076 - lr: 2.7253e-04\n",
            "Epoch 18/20\n",
            "1407/1407 [==============================] - 42s 30ms/step - loss: 0.1332 - accuracy: 0.9557 - val_loss: 1.3838 - val_accuracy: 0.7170 - lr: 2.4660e-04\n",
            "Epoch 19/20\n",
            "1407/1407 [==============================] - 41s 29ms/step - loss: 0.1044 - accuracy: 0.9652 - val_loss: 1.5093 - val_accuracy: 0.7132 - lr: 2.2313e-04\n",
            "Epoch 20/20\n",
            "1407/1407 [==============================] - 42s 30ms/step - loss: 0.0838 - accuracy: 0.9721 - val_loss: 1.6992 - val_accuracy: 0.7150 - lr: 2.0190e-04\n"
          ]
        }
      ],
      "source": [
        "## Q5. Set hyperparameters & training ##\n",
        "hist = my_inception.fit(x=x_train,\n",
        "                        y=y_train,\n",
        "                        validation_data=(x_valid, y_valid),\n",
        "                        # your hyperparameters...\n",
        "                        epochs=20, callbacks=callbacks\n",
        "                        )\n",
        "########################################"
      ]
    },
    {
      "cell_type": "markdown",
      "metadata": {
        "id": "MtERovo60fFr"
      },
      "source": [
        "## 참고 >\n",
        "\n",
        "조교가 학습한 모델의 validation accuracy를 그래프로 나타내 보았다."
      ]
    },
    {
      "cell_type": "code",
      "execution_count": 13,
      "metadata": {
        "id": "jvx8GtJu0fFr",
        "outputId": "82ad4c40-a902-48cd-c75e-fd797c23167d",
        "scrolled": true,
        "colab": {
          "base_uri": "https://localhost:8080/",
          "height": 480
        }
      },
      "outputs": [
        {
          "output_type": "display_data",
          "data": {
            "text/plain": [
              "<Figure size 640x480 with 1 Axes>"
            ],
            "image/png": "[encoded data removed]"
          },
          "metadata": {}
        }
      ],
      "source": [
        "import matplotlib.pyplot as plt\n",
        "\n",
        "plt.plot(hist.history['val_accuracy'])\n",
        "plt.title('Validation Accuracy', fontsize=15)\n",
        "plt.xlabel('epochs', fontsize=15)\n",
        "plt.ylabel('Acc.', fontsize=15)\n",
        "\n",
        "plt.show()"
      ]
    },
    {
      "cell_type": "markdown",
      "metadata": {
        "id": "SqxUlR2V0fFr"
      },
      "source": [
        "## Test Accuracy\n",
        "\n",
        "Test accuracy 측정 결과 **65% 이상**이 나와야 한다."
      ]
    },
    {
      "cell_type": "code",
      "execution_count": 14,
      "metadata": {
        "id": "0Fa_78sc0fFr",
        "colab": {
          "base_uri": "https://localhost:8080/"
        },
        "outputId": "2cf4f0a1-5fbc-49aa-a094-f3e5bf91cf61"
      },
      "outputs": [
        {
          "output_type": "stream",
          "name": "stdout",
          "text": [
            "313/313 [==============================] - 4s 11ms/step - loss: 1.7832 - accuracy: 0.7046\n"
          ]
        },
        {
          "output_type": "execute_result",
          "data": {
            "text/plain": [
              "[1.7831732034683228, 0.7045999765396118]"
            ]
          },
          "metadata": {},
          "execution_count": 14
        }
      ],
      "source": [
        "### DO NOT MODIFY ###\n",
        "my_inception.evaluate(x_test, y_test)"
      ]
    }
  ],
  "metadata": {
    "colab": {
      "provenance": [],
      "gpuType": "T4"
    },
    "kernelspec": {
      "display_name": "Python 3",
      "name": "python3"
    },
    "language_info": {
      "codemirror_mode": {
        "name": "ipython",
        "version": 3
      },
      "file_extension": ".py",
      "mimetype": "text/x-python",
      "name": "python",
      "nbconvert_exporter": "python",
      "pygments_lexer": "ipython3",
      "version": "3.8.13"
    },
    "accelerator": "GPU"
  },
  "nbformat": 4,
  "nbformat_minor": 0
}