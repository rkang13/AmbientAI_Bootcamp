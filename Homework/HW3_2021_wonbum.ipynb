{
  "cells": [
    {
      "cell_type": "markdown",
      "metadata": {
        "id": "_4X9M25jzxef"
      },
      "source": [
        "# | HW3 | MobileNetV2 변형해 보기\n",
        "\n",
        "**Due: 1/16, 11:59 PM**\n",
        "\n",
        "- **채점 기준**\n",
        "  - 아래 과제 설명을 따라야한다.\n",
        "  - test accuracy가 **80% 이상** 나와야 한다.\n",
        "- **제출**\n",
        "  - \"HW3_학번_이름.ipynb\" 형태로 저장하여 Jupyter Notebook을 그대로 제출.\n",
        "    - 예: HW3_2022_12345_keondo.ipynb\n",
        "  - output 지우지 말아 주세요"
      ]
    },
    {
      "cell_type": "markdown",
      "metadata": {
        "id": "CbiOlVdNzxei",
        "scrolled": false
      },
      "source": [
        "---"
      ]
    },
    {
      "cell_type": "markdown",
      "metadata": {
        "id": "zlwfSBH3zxej"
      },
      "source": [
        "`BatchNormalization(axis, momentum, epsilon)` : https://keras.io/api/layers/normalization_layers/batch_normalization/\n",
        "- axis: Batch normalization이 적용될 axis. 우리는 채널에 대해서 BN을 적용할 것이다.\n",
        "- momentum: Moving average에 적용될 momentum 계수\n",
        "- epsilon: 0으로 나누는 것을 방지하기 위한 작은 수.\n",
        "\n",
        "\n",
        "`DepthwiseConv2D(kernel_size, strides, padding, use_bias, depthwise_regularizer)` : https://keras.io/api/layers/convolution_layers/depthwise_convolution2d/"
      ]
    },
    {
      "cell_type": "markdown",
      "metadata": {
        "id": "dbeM7t9Wzxek"
      },
      "source": [
        "paper:[MobileNetV3](https://openaccess.thecvf.com/content_ICCV_2019/papers/Howard_Searching_for_MobileNetV3_ICCV_2019_paper.pdf)  \n",
        "\n",
        "이번 과제에서는 MobileNetV3에서 추가된 내용 중 일부를 반영해 볼 것이다. MobilenetV3에서는 모델의 마지막 부분에 아래 그림과 같은 변화가 있었는데, 요약하자면\n",
        "* Average pooling 앞의 1x1 Convolution layer와 Average pooling layer의 순서를 바꾸어 줌으로써 Computation은 줄이면서 정보의 손실은 최소화하였다.\n",
        "* 위 변화가 일어나게 됨으로써 그 이전 Inverted residual layer에서 projection/filtering을 해 줄 필요가 없어졌다. 따라서 마지막 Inverted residual layer의 Expansion 이후 바로 Average pooling이 오게 된다.\n",
        "* 아래 그림을 보면 더 이해가 쉬울 것이다.\n",
        "<img src=\"https://user-images.githubusercontent.com/37704174/112775642-734f8a80-9078-11eb-9bc1-a860a1fea407.PNG\" width=\"700\" height=\"700\"/>\n",
        "* 마지막 Inverted residual layer는 Original last stage 그림에서 맨 앞 세개이다.\n",
        "\n",
        "\n",
        "<br>\n",
        "위 내용을 참조하여 Network의 마지막 부분을 변형한 MobileNetV2plus를 구성하라. 위 그림상의 H-swish는 고려하지 않아도 된다.\n",
        "<img src=\"https://user-images.githubusercontent.com/37704174/112777027-1229b600-907c-11eb-9f89-a7b61c0843be.PNG\" width=\"700\" height=\"700\"/>  \n",
        "\n",
        "- **채점기준**\n",
        "  - 위의 변경 사항 반영하기\n",
        "    - MobileNetV2에서 마지막 inverted residual block 및 뒷부분을 고치면 됨\n",
        "    - Average pooling의 output의 가로 세로는 1임\n",
        "  - test accuracy **80%** 이상\n",
        "    - BatchNormalization, Activation, Dropout, Regularization, Weight initialization 등 자유롭게 수정, 추가, 제거 가능\n",
        "    - `strides` 수정 가능\n",
        "    - 나머지는 그대로\n"
      ]
    },
    {
      "cell_type": "markdown",
      "metadata": {
        "id": "BmOkCsSfMZH8"
      },
      "source": [
        "## Colab Setup"
      ]
    },
    {
      "cell_type": "code",
      "execution_count": 1,
      "metadata": {
        "colab": {
          "base_uri": "https://localhost:8080/"
        },
        "id": "mJQQ9RB3L6vl",
        "outputId": "b95ddca1-963a-43f2-aa59-fad3b6057182"
      },
      "outputs": [
        {
          "output_type": "stream",
          "name": "stdout",
          "text": [
            "Mounted at /content/drive\n"
          ]
        }
      ],
      "source": [
        "from google.colab import drive\n",
        "drive.mount('/content/drive')"
      ]
    },
    {
      "cell_type": "code",
      "execution_count": 2,
      "metadata": {
        "colab": {
          "base_uri": "https://localhost:8080/"
        },
        "id": "ruPlUj0QMERh",
        "outputId": "c3f469bc-829a-429f-ef3e-33b6cef11b61"
      },
      "outputs": [
        {
          "output_type": "stream",
          "name": "stdout",
          "text": [
            "/content/drive/MyDrive\n"
          ]
        }
      ],
      "source": [
        "\"\"\"\n",
        "Change directory to where this file is located\n",
        "\"\"\"\n",
        "%cd '/content/drive/MyDrive'"
      ]
    },
    {
      "cell_type": "markdown",
      "metadata": {
        "id": "_zQAEuO1zxek"
      },
      "source": [
        "## Import Modules"
      ]
    },
    {
      "cell_type": "code",
      "execution_count": 3,
      "metadata": {
        "id": "PwJ-gqa8zxel",
        "scrolled": false
      },
      "outputs": [],
      "source": [
        "import tensorflow as tf\n",
        "### Q1. Import modules ###\n",
        "import os\n",
        "import numpy as np\n",
        "import matplotlib.pyplot as plt\n",
        "\n",
        "from tensorflow.keras.models import Model\n",
        "from tensorflow.keras.layers import Add, ReLU, Input, Dense, Activation, Flatten, Conv2D, \\\n",
        "    DepthwiseConv2D, BatchNormalization, GlobalAveragePooling2D, Dropout\n",
        "from tensorflow.keras.regularizers import l2\n",
        "#########################"
      ]
    },
    {
      "cell_type": "markdown",
      "metadata": {
        "id": "JVxCFw47MeSo"
      },
      "source": [
        "## GPU Setting"
      ]
    },
    {
      "cell_type": "code",
      "execution_count": 4,
      "metadata": {
        "colab": {
          "base_uri": "https://localhost:8080/"
        },
        "id": "vymfP3pqMP7y",
        "outputId": "aa82db39-bede-4c38-e8b0-54d2871dbac6"
      },
      "outputs": [
        {
          "output_type": "stream",
          "name": "stdout",
          "text": [
            "Num_GPUs:1, List:[PhysicalDevice(name='/physical_device:GPU:0', device_type='GPU')]\n"
          ]
        }
      ],
      "source": [
        "\n",
        "\"\"\"\n",
        "Make sure your runtime type is GPU!\n",
        "\"\"\"\n",
        "physical_devices = tf.config.list_physical_devices('GPU')\n",
        "print('Num_GPUs:{}, List:{}'.format(len(physical_devices), physical_devices))"
      ]
    },
    {
      "cell_type": "markdown",
      "metadata": {
        "id": "C5-6x854zxem"
      },
      "source": [
        "## Inverted Residual Block\n",
        "\n",
        "- 실습 때 한 것과 동일"
      ]
    },
    {
      "cell_type": "code",
      "execution_count": 5,
      "metadata": {
        "id": "KGjTG3kAzxem",
        "scrolled": false
      },
      "outputs": [],
      "source": [
        "def _inverted_res_block(inputs, expansion, filters, strides):\n",
        "    x = inputs\n",
        "    in_chnls = inputs.shape[-1]\n",
        "    # Expansion\n",
        "    if expansion != 1:\n",
        "        x = Conv2D(kernel_size=1, filters=in_chnls * expansion, strides=1, padding='same', use_bias=False, kernel_regularizer=l2(4e-5))(x)\n",
        "        x = BatchNormalization(momentum=0.999, epsilon=0.001)(x)\n",
        "        x = ReLU(max_value=6)(x)\n",
        "\n",
        "    # Depthwise convolution\n",
        "    x = DepthwiseConv2D(kernel_size=3, strides=strides, padding='same', use_bias=False, depthwise_regularizer=l2(4e-5))(x)\n",
        "    x = BatchNormalization(momentum=0.999, epsilon=0.001)(x)\n",
        "    x = ReLU(max_value=6)(x)\n",
        "\n",
        "    # Linear bottleneck\n",
        "    x = Conv2D(kernel_size=1, filters=filters, strides=1, padding='same', use_bias=False, kernel_regularizer=l2(4e-5))(x)\n",
        "    x = BatchNormalization(momentum=0.999, epsilon=0.001)(x)\n",
        "    # No activation\n",
        "\n",
        "    # Residual connection\n",
        "    if in_chnls == filters and strides == 1:\n",
        "        x = Add()([inputs, x])\n",
        "\n",
        "    return x #return output of layer"
      ]
    },
    {
      "cell_type": "markdown",
      "metadata": {
        "id": "VBNLdmgTzxen"
      },
      "source": [
        "## MobileNetV2 변형 구현"
      ]
    },
    {
      "cell_type": "code",
      "execution_count": 13,
      "metadata": {
        "id": "5TkdqcFRzxen",
        "scrolled": false
      },
      "outputs": [],
      "source": [
        "def MobileNetV2plus(input_shape, classes):\n",
        "    inputs = Input(shape=input_shape)\n",
        "\n",
        "    ### Q2. Modify MobileNetV2 ###\n",
        "    x = Conv2D(filters=32, kernel_size=3, strides=2, padding='same')(inputs)\n",
        "    x = BatchNormalization(momentum=0.999, epsilon=0.001)(x)\n",
        "    x = ReLU(max_value=6)(x)\n",
        "\n",
        "    x = _inverted_res_block(inputs=x, expansion=1, filters=16, strides=1)\n",
        "\n",
        "    x = _inverted_res_block(inputs=x, expansion=6, filters=24, strides=2)\n",
        "    x = _inverted_res_block(inputs=x, expansion=6, filters=24, strides=1)\n",
        "\n",
        "    x = _inverted_res_block(inputs=x, expansion=6, filters=32, strides=2)\n",
        "    x = _inverted_res_block(inputs=x, expansion=6, filters=32, strides=1)\n",
        "    x = _inverted_res_block(inputs=x, expansion=6, filters=32, strides=1)\n",
        "    x = Dropout(0.2)(x)\n",
        "\n",
        "    x = _inverted_res_block(inputs=x, expansion=6, filters=64, strides=2)\n",
        "    x = _inverted_res_block(inputs=x, expansion=6, filters=64, strides=1)\n",
        "    x = _inverted_res_block(inputs=x, expansion=6, filters=64, strides=1)\n",
        "    x = _inverted_res_block(inputs=x, expansion=6, filters=64, strides=1)\n",
        "    x = Dropout(0.2)(x)\n",
        "\n",
        "    x = _inverted_res_block(inputs=x, expansion=6, filters=96, strides=1)\n",
        "    x = _inverted_res_block(inputs=x, expansion=6, filters=96, strides=1)\n",
        "    x = _inverted_res_block(inputs=x, expansion=6, filters=96, strides=1)\n",
        "    x = Dropout(0.2)(x)\n",
        "\n",
        "    x = _inverted_res_block(inputs=x, expansion=6, filters=160, strides=2)\n",
        "    x = _inverted_res_block(inputs=x, expansion=6, filters=160, strides=1)\n",
        "    x = _inverted_res_block(inputs=x, expansion=6, filters=160, strides=1)\n",
        "    x = Dropout(0.2)(x)\n",
        "\n",
        "    x = Conv2D(kernel_size=1, filters=160 * 6, strides=1, padding='same', use_bias=False, kernel_regularizer=l2(4e-5))(x)\n",
        "    x = BatchNormalization(momentum=0.999, epsilon=0.001)(x)\n",
        "    x = ReLU(max_value=6)(x)\n",
        "    x = Dropout(0.2)(x)\n",
        "\n",
        "    x = GlobalAveragePooling2D(keepdims=True)(x)\n",
        "\n",
        "    x = Conv2D(kernel_size=1, filters=1280, strides=1, padding='same')(x)\n",
        "    x = BatchNormalization(momentum=0.999, epsilon=0.001)(x)\n",
        "    x = ReLU(max_value=6)(x)\n",
        "\n",
        "    x = Flatten()(x)\n",
        "\n",
        "\n",
        "    outputs = Dense(classes, activation='softmax')(x)\n",
        "    ##############################\n",
        "\n",
        "    return Model(inputs=inputs, outputs=outputs)\n"
      ]
    },
    {
      "cell_type": "code",
      "execution_count": 14,
      "metadata": {
        "id": "1LvkStJhzxeo",
        "scrolled": false
      },
      "outputs": [],
      "source": [
        "my_mobilenet = MobileNetV2plus((32,32,3),classes=10)"
      ]
    },
    {
      "cell_type": "markdown",
      "metadata": {
        "id": "O69GTfOTzxeo"
      },
      "source": [
        "## Training Data\n",
        "\n",
        "- keras dataset 혹은 tensorflow dataset 이용\n",
        "- train data를 9:1로 나눠서 validation data로 이용"
      ]
    },
    {
      "cell_type": "code",
      "execution_count": 15,
      "metadata": {
        "id": "azOxenuyzxep",
        "scrolled": false
      },
      "outputs": [],
      "source": [
        "from tensorflow.keras.datasets import cifar10\n",
        "#Load data\n",
        "(x_train, y_train), (x_test, y_test) = cifar10.load_data()\n",
        "\n",
        "#Split train set into train/valid set\n",
        "from sklearn import model_selection\n",
        "x_train, x_valid, y_train, y_valid = model_selection.train_test_split(x_train, y_train,test_size=0.1)"
      ]
    },
    {
      "cell_type": "markdown",
      "metadata": {
        "id": "v1R87-fgzxep"
      },
      "source": [
        "## Data Preprocessing\n",
        "자유롭게 전처리"
      ]
    },
    {
      "cell_type": "code",
      "execution_count": 16,
      "metadata": {
        "id": "ZYETZHz1zxep",
        "scrolled": false
      },
      "outputs": [],
      "source": [
        "### Q3. Preprocessing ###\n",
        "x_train = tf.keras.layers.experimental.preprocessing.Rescaling(1./255)(x_train)\n",
        "x_valid = tf.keras.layers.experimental.preprocessing.Rescaling(1./255)(x_valid)\n",
        "x_test = tf.keras.layers.experimental.preprocessing.Rescaling(1./255)(x_test)\n",
        "#########################"
      ]
    },
    {
      "cell_type": "markdown",
      "metadata": {
        "id": "z6BOLhxLzxep"
      },
      "source": [
        "## Model Compile\n",
        "loss function, optimizer 설정"
      ]
    },
    {
      "cell_type": "code",
      "execution_count": 17,
      "metadata": {
        "id": "5kti2fkFzxep",
        "scrolled": false
      },
      "outputs": [],
      "source": [
        "### Q4. Model compile ###\n",
        "my_mobilenet.compile(optimizer=\"Adam\", loss=\"sparse_categorical_crossentropy\", metrics=['accuracy'])\n",
        "#########################"
      ]
    },
    {
      "cell_type": "code",
      "execution_count": 18,
      "metadata": {
        "id": "DSOCZ5ctzxeq",
        "scrolled": false
      },
      "outputs": [],
      "source": [
        "### Q5. Callbacks ###\n",
        "earlystop_acc_cb = tf.keras.callbacks.EarlyStopping(verbose=1, monitor='accuracy', patience=20, restore_best_weights=False)\n",
        "checkpoint_cb = tf.keras.callbacks.ModelCheckpoint(\"./model/hw3_MobileNet.h5\", monitor=\"val_accuracy\", save_best_only=True)\n",
        "\n",
        "callbacks = [earlystop_acc_cb, checkpoint_cb]\n",
        "#callbacks.append(tf.keras.callbacks.TensorBoard(log_dir=log_dir, histogram_freq=1))\n",
        "#callbacks.append(tf.keras.callbacks. ...)\n",
        "#####################"
      ]
    },
    {
      "cell_type": "markdown",
      "metadata": {
        "id": "z2w6KyPvzxeq"
      },
      "source": [
        "## Model Training\n",
        "hyperparameter를 적절히 설정한다. (epochs 등..)"
      ]
    },
    {
      "cell_type": "code",
      "execution_count": 19,
      "metadata": {
        "colab": {
          "base_uri": "https://localhost:8080/"
        },
        "id": "3nOCP5xxzxeq",
        "scrolled": false,
        "outputId": "f5111dde-c5fe-4ece-cc82-15908d264553"
      },
      "outputs": [
        {
          "output_type": "stream",
          "name": "stdout",
          "text": [
            "Epoch 1/50\n",
            "704/704 [==============================] - 56s 38ms/step - loss: 2.2109 - accuracy: 0.2472 - val_loss: 2.4919 - val_accuracy: 0.0978\n",
            "Epoch 2/50\n",
            "704/704 [==============================] - 24s 34ms/step - loss: 1.8300 - accuracy: 0.3810 - val_loss: 2.4795 - val_accuracy: 0.0978\n",
            "Epoch 3/50\n",
            "704/704 [==============================] - 26s 37ms/step - loss: 1.6472 - accuracy: 0.4551 - val_loss: 2.4633 - val_accuracy: 0.1092\n",
            "Epoch 4/50\n",
            "704/704 [==============================] - 23s 33ms/step - loss: 1.5507 - accuracy: 0.4990 - val_loss: 2.4873 - val_accuracy: 0.0978\n",
            "Epoch 5/50\n",
            "704/704 [==============================] - 24s 34ms/step - loss: 1.5664 - accuracy: 0.4956 - val_loss: 2.5069 - val_accuracy: 0.0978\n",
            "Epoch 6/50\n",
            "704/704 [==============================] - 25s 36ms/step - loss: 1.4064 - accuracy: 0.5530 - val_loss: 2.4200 - val_accuracy: 0.1696\n",
            "Epoch 7/50\n",
            "704/704 [==============================] - 26s 36ms/step - loss: 1.3171 - accuracy: 0.5841 - val_loss: 2.1201 - val_accuracy: 0.2768\n",
            "Epoch 8/50\n",
            "704/704 [==============================] - 26s 37ms/step - loss: 1.2444 - accuracy: 0.6097 - val_loss: 1.7331 - val_accuracy: 0.4646\n",
            "Epoch 9/50\n",
            "704/704 [==============================] - 24s 34ms/step - loss: 1.1859 - accuracy: 0.6283 - val_loss: 1.7267 - val_accuracy: 0.5216\n",
            "Epoch 10/50\n",
            "704/704 [==============================] - 23s 32ms/step - loss: 1.1741 - accuracy: 0.6332 - val_loss: 4.7313 - val_accuracy: 0.2732\n",
            "Epoch 11/50\n",
            "704/704 [==============================] - 24s 35ms/step - loss: 1.1121 - accuracy: 0.6526 - val_loss: 1.3817 - val_accuracy: 0.6196\n",
            "Epoch 12/50\n",
            "704/704 [==============================] - 24s 34ms/step - loss: 1.0682 - accuracy: 0.6717 - val_loss: 2.0273 - val_accuracy: 0.5410\n",
            "Epoch 13/50\n",
            "704/704 [==============================] - 23s 32ms/step - loss: 0.9791 - accuracy: 0.6989 - val_loss: 1.5838 - val_accuracy: 0.5772\n",
            "Epoch 14/50\n",
            "704/704 [==============================] - 22s 32ms/step - loss: 1.2948 - accuracy: 0.6028 - val_loss: 4.6312 - val_accuracy: 0.1530\n",
            "Epoch 15/50\n",
            "704/704 [==============================] - 21s 30ms/step - loss: 1.1960 - accuracy: 0.6339 - val_loss: 2.2190 - val_accuracy: 0.4780\n",
            "Epoch 16/50\n",
            "704/704 [==============================] - 22s 32ms/step - loss: 1.2142 - accuracy: 0.6410 - val_loss: 1.7103 - val_accuracy: 0.6090\n",
            "Epoch 17/50\n",
            "704/704 [==============================] - 23s 32ms/step - loss: 1.0092 - accuracy: 0.6987 - val_loss: 1.3373 - val_accuracy: 0.6254\n",
            "Epoch 18/50\n",
            "704/704 [==============================] - 22s 31ms/step - loss: 1.2728 - accuracy: 0.6088 - val_loss: 1.6231 - val_accuracy: 0.5672\n",
            "Epoch 19/50\n",
            "704/704 [==============================] - 24s 34ms/step - loss: 1.0171 - accuracy: 0.6985 - val_loss: 1.1239 - val_accuracy: 0.6604\n",
            "Epoch 20/50\n",
            "704/704 [==============================] - 23s 32ms/step - loss: 0.9464 - accuracy: 0.7215 - val_loss: 1.1108 - val_accuracy: 0.6640\n",
            "Epoch 21/50\n",
            "704/704 [==============================] - 25s 35ms/step - loss: 0.9166 - accuracy: 0.7329 - val_loss: 1.0386 - val_accuracy: 0.6856\n",
            "Epoch 22/50\n",
            "704/704 [==============================] - 23s 32ms/step - loss: 0.8762 - accuracy: 0.7444 - val_loss: 1.0662 - val_accuracy: 0.6800\n",
            "Epoch 23/50\n",
            "704/704 [==============================] - 23s 32ms/step - loss: 0.8970 - accuracy: 0.7351 - val_loss: 0.9845 - val_accuracy: 0.7120\n",
            "Epoch 24/50\n",
            "704/704 [==============================] - 23s 33ms/step - loss: 0.8216 - accuracy: 0.7598 - val_loss: 0.9535 - val_accuracy: 0.7182\n",
            "Epoch 25/50\n",
            "704/704 [==============================] - 22s 32ms/step - loss: 0.8047 - accuracy: 0.7668 - val_loss: 0.9947 - val_accuracy: 0.7040\n",
            "Epoch 26/50\n",
            "704/704 [==============================] - 23s 32ms/step - loss: 0.8011 - accuracy: 0.7708 - val_loss: 0.9193 - val_accuracy: 0.7306\n",
            "Epoch 27/50\n",
            "704/704 [==============================] - 22s 31ms/step - loss: 0.7530 - accuracy: 0.7856 - val_loss: 0.9340 - val_accuracy: 0.7260\n",
            "Epoch 28/50\n",
            "704/704 [==============================] - 22s 32ms/step - loss: 0.7520 - accuracy: 0.7827 - val_loss: 0.9996 - val_accuracy: 0.7098\n",
            "Epoch 29/50\n",
            "704/704 [==============================] - 21s 30ms/step - loss: 0.7340 - accuracy: 0.7898 - val_loss: 1.0998 - val_accuracy: 0.6972\n",
            "Epoch 30/50\n",
            "704/704 [==============================] - 25s 35ms/step - loss: 0.7034 - accuracy: 0.8020 - val_loss: 0.9789 - val_accuracy: 0.7152\n",
            "Epoch 31/50\n",
            "704/704 [==============================] - 24s 34ms/step - loss: 0.6806 - accuracy: 0.8087 - val_loss: 0.9601 - val_accuracy: 0.7318\n",
            "Epoch 32/50\n",
            "704/704 [==============================] - 21s 30ms/step - loss: 0.6738 - accuracy: 0.8103 - val_loss: 0.9743 - val_accuracy: 0.7184\n",
            "Epoch 33/50\n",
            "704/704 [==============================] - 22s 32ms/step - loss: 0.6467 - accuracy: 0.8192 - val_loss: 1.1167 - val_accuracy: 0.6834\n",
            "Epoch 34/50\n",
            "704/704 [==============================] - 21s 30ms/step - loss: 0.6458 - accuracy: 0.8193 - val_loss: 0.9450 - val_accuracy: 0.7310\n",
            "Epoch 35/50\n",
            "704/704 [==============================] - 24s 34ms/step - loss: 0.6363 - accuracy: 0.8222 - val_loss: 0.9541 - val_accuracy: 0.7358\n",
            "Epoch 36/50\n",
            "704/704 [==============================] - 22s 32ms/step - loss: 0.6071 - accuracy: 0.8327 - val_loss: 0.9560 - val_accuracy: 0.7330\n",
            "Epoch 37/50\n",
            "704/704 [==============================] - 21s 30ms/step - loss: 0.6053 - accuracy: 0.8350 - val_loss: 1.0126 - val_accuracy: 0.7070\n",
            "Epoch 38/50\n",
            "704/704 [==============================] - 22s 32ms/step - loss: 0.5964 - accuracy: 0.8393 - val_loss: 0.9971 - val_accuracy: 0.7220\n",
            "Epoch 39/50\n",
            "704/704 [==============================] - 22s 32ms/step - loss: 0.6038 - accuracy: 0.8342 - val_loss: 0.9401 - val_accuracy: 0.7458\n",
            "Epoch 40/50\n",
            "704/704 [==============================] - 23s 33ms/step - loss: 0.5690 - accuracy: 0.8488 - val_loss: 0.9818 - val_accuracy: 0.7286\n",
            "Epoch 41/50\n",
            "704/704 [==============================] - 22s 31ms/step - loss: 0.5665 - accuracy: 0.8485 - val_loss: 1.0707 - val_accuracy: 0.7106\n",
            "Epoch 42/50\n",
            "704/704 [==============================] - 21s 30ms/step - loss: 0.5699 - accuracy: 0.8482 - val_loss: 1.2252 - val_accuracy: 0.6702\n",
            "Epoch 43/50\n",
            "704/704 [==============================] - 22s 31ms/step - loss: 0.5624 - accuracy: 0.8519 - val_loss: 1.0342 - val_accuracy: 0.7362\n",
            "Epoch 44/50\n",
            "704/704 [==============================] - 21s 30ms/step - loss: 0.5485 - accuracy: 0.8578 - val_loss: 0.9435 - val_accuracy: 0.7418\n",
            "Epoch 45/50\n",
            "704/704 [==============================] - 22s 31ms/step - loss: 0.5379 - accuracy: 0.8608 - val_loss: 1.0854 - val_accuracy: 0.7178\n",
            "Epoch 46/50\n",
            "704/704 [==============================] - 21s 29ms/step - loss: 0.5201 - accuracy: 0.8662 - val_loss: 1.0179 - val_accuracy: 0.7412\n",
            "Epoch 47/50\n",
            "704/704 [==============================] - 22s 31ms/step - loss: 0.5292 - accuracy: 0.8649 - val_loss: 1.0296 - val_accuracy: 0.7348\n",
            "Epoch 48/50\n",
            "704/704 [==============================] - 23s 32ms/step - loss: 0.5127 - accuracy: 0.8686 - val_loss: 0.9924 - val_accuracy: 0.7484\n",
            "Epoch 49/50\n",
            "704/704 [==============================] - 22s 32ms/step - loss: 0.5046 - accuracy: 0.8711 - val_loss: 1.0060 - val_accuracy: 0.7454\n",
            "Epoch 50/50\n",
            "704/704 [==============================] - 22s 31ms/step - loss: 0.5267 - accuracy: 0.8652 - val_loss: 1.0481 - val_accuracy: 0.7348\n"
          ]
        }
      ],
      "source": [
        "### Q6. Training ###\n",
        "history = my_mobilenet.fit(x_train, y_train, batch_size=64,\n",
        "                          epochs=50,\n",
        "                          callbacks=callbacks,\n",
        "                          validation_data=(x_valid, y_valid))\n",
        "####################"
      ]
    },
    {
      "cell_type": "markdown",
      "metadata": {
        "id": "7WzvdkTkzxeq"
      },
      "source": [
        "## 참고용\n",
        "조교가 학습한 모델의 validation accuracy를 그래프로 나타내 보았다."
      ]
    },
    {
      "cell_type": "code",
      "execution_count": 20,
      "metadata": {
        "id": "rcd2exS-zxeq",
        "outputId": "c59daff3-42a0-4d81-ce87-f9cf863e657a",
        "scrolled": false,
        "colab": {
          "base_uri": "https://localhost:8080/",
          "height": 480
        }
      },
      "outputs": [
        {
          "output_type": "display_data",
          "data": {
            "text/plain": [
              "<Figure size 640x480 with 1 Axes>"
            ],
            "image/png": "[encoded data removed]"
          },
          "metadata": {}
        }
      ],
      "source": [
        "import matplotlib.pyplot as plt\n",
        "\n",
        "plt.plot(history.history['val_accuracy'])\n",
        "plt.title('Validation Accuracy', fontsize=15)\n",
        "plt.xlabel('epochs', fontsize=15)\n",
        "plt.ylabel('Acc.', fontsize=15)\n",
        "\n",
        "plt.show()"
      ]
    },
    {
      "cell_type": "markdown",
      "metadata": {
        "id": "uLf12NSyzxer"
      },
      "source": [
        "## Test Accuracy\n",
        "\n",
        "test accuracy 측정 결과 **80% 이상**이 나와야 한다."
      ]
    },
    {
      "cell_type": "code",
      "execution_count": 21,
      "metadata": {
        "id": "6TZdoqT9zxer",
        "outputId": "7d9a17a4-ed49-4651-e117-5f00328d5c51",
        "scrolled": false,
        "colab": {
          "base_uri": "https://localhost:8080/"
        }
      },
      "outputs": [
        {
          "output_type": "stream",
          "name": "stdout",
          "text": [
            "313/313 [==============================] - 5s 13ms/step - loss: 1.0747 - accuracy: 0.7369\n"
          ]
        },
        {
          "output_type": "execute_result",
          "data": {
            "text/plain": [
              "[1.0746521949768066, 0.7368999719619751]"
            ]
          },
          "metadata": {},
          "execution_count": 21
        }
      ],
      "source": [
        "my_mobilenet.evaluate(x_test,y_test)"
      ]
    },
    {
      "cell_type": "code",
      "source": [],
      "metadata": {
        "id": "5BbPJAt-O1d2"
      },
      "execution_count": null,
      "outputs": []
    }
  ],
  "metadata": {
    "accelerator": "GPU",
    "colab": {
      "provenance": [],
      "gpuType": "T4"
    },
    "kernelspec": {
      "display_name": "Python 3",
      "name": "python3"
    },
    "language_info": {
      "codemirror_mode": {
        "name": "ipython",
        "version": 3
      },
      "file_extension": ".py",
      "mimetype": "text/x-python",
      "name": "python",
      "nbconvert_exporter": "python",
      "pygments_lexer": "ipython3",
      "version": "3.9.12"
    }
  },
  "nbformat": 4,
  "nbformat_minor": 0
}